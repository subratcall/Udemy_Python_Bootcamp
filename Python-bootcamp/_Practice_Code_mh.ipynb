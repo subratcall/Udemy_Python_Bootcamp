{
 "cells": [
  {
   "cell_type": "code",
   "execution_count": null,
   "metadata": {
    "collapsed": true
   },
   "outputs": [],
   "source": []
  },
  {
   "cell_type": "code",
   "execution_count": 45,
   "metadata": {
    "collapsed": true
   },
   "outputs": [],
   "source": [
    "hour = 7\n",
    "talking = True"
   ]
  },
  {
   "cell_type": "code",
   "execution_count": 22,
   "metadata": {},
   "outputs": [
    {
     "ename": "SyntaxError",
     "evalue": "invalid syntax (<ipython-input-22-5262e15edf98>, line 9)",
     "output_type": "error",
     "traceback": [
      "\u001b[1;36m  File \u001b[1;32m\"<ipython-input-22-5262e15edf98>\"\u001b[1;36m, line \u001b[1;32m9\u001b[0m\n\u001b[1;33m    else talking = True:\u001b[0m\n\u001b[1;37m               ^\u001b[0m\n\u001b[1;31mSyntaxError\u001b[0m\u001b[1;31m:\u001b[0m invalid syntax\n"
     ]
    }
   ],
   "source": [
    "# We have a loud talking parrot. The \"hour\" parameter is the current hour time in the range 0..23. \n",
    "# We are in trouble if the parrot is talking and the hour is before 7 or after 20. \n",
    "# Return True if we are in trouble.\n",
    "# trouble = True\n",
    "\n",
    "def parrot_trouble(talking, hour):\n",
    "    if 7 <= hour <= 20:\n",
    "        return False\n",
    "    else talking:\n",
    "        return True"
   ]
  },
  {
   "cell_type": "code",
   "execution_count": 51,
   "metadata": {},
   "outputs": [
    {
     "data": {
      "text/plain": [
       "True"
      ]
     },
     "execution_count": 51,
     "metadata": {},
     "output_type": "execute_result"
    }
   ],
   "source": [
    "hour = 6\n",
    "talking = True\n",
    "\n",
    "def parrot_trouble(talking, hour):\n",
    " return (talking and (hour < 7 or hour > 20))\n",
    "\n",
    "parrot_trouble(talking, hour)"
   ]
  },
  {
   "cell_type": "code",
   "execution_count": 69,
   "metadata": {},
   "outputs": [
    {
     "data": {
      "text/plain": [
       "True"
      ]
     },
     "execution_count": 69,
     "metadata": {},
     "output_type": "execute_result"
    }
   ],
   "source": [
    "# Given 2 ints, a and b, return True if one if them is 10 or if their sum is 10.\n",
    "a = 5\n",
    "b = 5\n",
    "\n",
    "def makes10(a,b):\n",
    " sum = a+b \n",
    " if sum == 10 or a == 10 or b == 10:\n",
    "  return True\n",
    " else:\n",
    "  return False\n",
    "\n",
    "makes10(a,b)"
   ]
  },
  {
   "cell_type": "code",
   "execution_count": 76,
   "metadata": {},
   "outputs": [
    {
     "data": {
      "text/plain": [
       "True"
      ]
     },
     "execution_count": 76,
     "metadata": {},
     "output_type": "execute_result"
    }
   ],
   "source": [
    "# Given 2 ints, a and b, return True if one if them is 10 or if their sum is 10.\n",
    "a = 11\n",
    "b = -1\n",
    "\n",
    "def makes10(a,b): \n",
    " return (a+b == 10 or a == 10 or b == 10)\n",
    "\n",
    "makes10(a,b)"
   ]
  },
  {
   "cell_type": "code",
   "execution_count": 84,
   "metadata": {},
   "outputs": [
    {
     "name": "stdout",
     "output_type": "stream",
     "text": [
      "True\n",
      "True\n",
      "False\n",
      "True\n",
      "True\n",
      "False\n"
     ]
    }
   ],
   "source": [
    "# Given an int n, return True if it is within 10 of 100 or 200. \n",
    "# Note: abs(num) computes the absolute value of a number.\n",
    "\n",
    "def withinRange(n):\n",
    "    return ((110 >= n >= 90) or (210 >= n >= 190))\n",
    "\n",
    "print withinRange(93)\n",
    "print withinRange(90)\n",
    "print withinRange(89)\n",
    "print withinRange(193)\n",
    "print withinRange(190)\n",
    "print withinRange(189)"
   ]
  },
  {
   "cell_type": "code",
   "execution_count": 85,
   "metadata": {},
   "outputs": [
    {
     "data": {
      "text/plain": [
       "10"
      ]
     },
     "execution_count": 85,
     "metadata": {},
     "output_type": "execute_result"
    }
   ],
   "source": [
    "abs(10-20)"
   ]
  },
  {
   "cell_type": "code",
   "execution_count": 87,
   "metadata": {},
   "outputs": [
    {
     "data": {
      "text/plain": [
       "191"
      ]
     },
     "execution_count": 87,
     "metadata": {},
     "output_type": "execute_result"
    }
   ],
   "source": [
    "abs(200-9)"
   ]
  },
  {
   "cell_type": "code",
   "execution_count": 92,
   "metadata": {},
   "outputs": [
    {
     "data": {
      "text/plain": [
       "True"
      ]
     },
     "execution_count": 92,
     "metadata": {},
     "output_type": "execute_result"
    }
   ],
   "source": [
    "def near_hundred(n):\n",
    "  return ((abs(100 - n) <= 10) or (abs(200 - n) <= 10))\n",
    "\n",
    "near_hundred(209)"
   ]
  },
  {
   "cell_type": "code",
   "execution_count": 104,
   "metadata": {},
   "outputs": [
    {
     "name": "stdout",
     "output_type": "stream",
     "text": [
      "True\n",
      "True\n",
      "True\n",
      "False\n",
      "False\n"
     ]
    }
   ],
   "source": [
    "# Given 2 int values, return True if one is negative and one is positive. \n",
    "# Except if the parameter \"negative\" is True, then return True only if both are negative.\n",
    "\n",
    "\n",
    "def pos_neg(a, b, negative):\n",
    "   if negative:\n",
    "    # return (a and b) < 0 # this one apparently fails the last test\n",
    "    return (a < 0 and b < 0)\n",
    "   else:\n",
    "        return ((a < 0 and b > 0) or (a > 0 and b < 0))\n",
    "        \n",
    "    \n",
    "print pos_neg(1, -1, False)\n",
    "print pos_neg(-1, 1, False)\n",
    "print pos_neg(-4, -5, True)\n",
    "print pos_neg(-4, 5, True)  \n",
    "print pos_neg(1, -1, True) # test failed with return (a and b) < 0 # I don't know why"
   ]
  },
  {
   "cell_type": "code",
   "execution_count": null,
   "metadata": {
    "collapsed": true
   },
   "outputs": [],
   "source": [
    "# http://codingbat.com/prob/p189441\n",
    "# Given a string, return a new string where \"not \" has been added to the front. \n",
    "# However, if the string already begins with \"not\", return the string unchanged. \n",
    "\n",
    "def not_string(str):\n",
    "    "
   ]
  }
 ],
 "metadata": {
  "kernelspec": {
   "display_name": "Python 2",
   "language": "python",
   "name": "python2"
  },
  "language_info": {
   "codemirror_mode": {
    "name": "ipython",
    "version": 2
   },
   "file_extension": ".py",
   "mimetype": "text/x-python",
   "name": "python",
   "nbconvert_exporter": "python",
   "pygments_lexer": "ipython2",
   "version": "2.7.14"
  }
 },
 "nbformat": 4,
 "nbformat_minor": 2
}
