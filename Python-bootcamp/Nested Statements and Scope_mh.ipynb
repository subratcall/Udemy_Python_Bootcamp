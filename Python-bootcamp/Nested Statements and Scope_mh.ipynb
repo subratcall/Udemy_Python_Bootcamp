{
 "cells": [
  {
   "cell_type": "code",
   "execution_count": 7,
   "metadata": {},
   "outputs": [
    {
     "name": "stdout",
     "output_type": "stream",
     "text": [
      "25\n",
      "50\n"
     ]
    }
   ],
   "source": [
    "x = 25\n",
    "\n",
    "def printer():\n",
    "    x = 50\n",
    "    return x\n",
    "\n",
    "print x\n",
    "print printer()"
   ]
  },
  {
   "cell_type": "code",
   "execution_count": 13,
   "metadata": {},
   "outputs": [],
   "source": [
    "printL = lambda x: x**2 if x>5 else x**3"
   ]
  },
  {
   "cell_type": "code",
   "execution_count": 16,
   "metadata": {},
   "outputs": [
    {
     "data": {
      "text/plain": [
       "36"
      ]
     },
     "execution_count": 16,
     "metadata": {},
     "output_type": "execute_result"
    }
   ],
   "source": [
    "printL(6)"
   ]
  },
  {
   "cell_type": "code",
   "execution_count": 17,
   "metadata": {
    "collapsed": true
   },
   "outputs": [],
   "source": [
    "x = 50\n",
    "\n",
    "def func():\n",
    "    global x\n",
    "    print 'global value of x is: ',x\n",
    "    x=2"
   ]
  },
  {
   "cell_type": "code",
   "execution_count": 18,
   "metadata": {},
   "outputs": [
    {
     "data": {
      "text/plain": [
       "<function __main__.func>"
      ]
     },
     "execution_count": 18,
     "metadata": {},
     "output_type": "execute_result"
    }
   ],
   "source": [
    "func"
   ]
  },
  {
   "cell_type": "code",
   "execution_count": 19,
   "metadata": {},
   "outputs": [
    {
     "name": "stdout",
     "output_type": "stream",
     "text": [
      "global value of x is:  50\n"
     ]
    }
   ],
   "source": [
    "func()"
   ]
  },
  {
   "cell_type": "code",
   "execution_count": 20,
   "metadata": {},
   "outputs": [
    {
     "ename": "SyntaxError",
     "evalue": "invalid syntax (<ipython-input-20-9379ae7afb41>, line 1)",
     "output_type": "error",
     "traceback": [
      "\u001b[1;36m  File \u001b[1;32m\"<ipython-input-20-9379ae7afb41>\"\u001b[1;36m, line \u001b[1;32m1\u001b[0m\n\u001b[1;33m    global()\u001b[0m\n\u001b[1;37m          ^\u001b[0m\n\u001b[1;31mSyntaxError\u001b[0m\u001b[1;31m:\u001b[0m invalid syntax\n"
     ]
    }
   ],
   "source": [
    "global()"
   ]
  },
  {
   "cell_type": "code",
   "execution_count": 21,
   "metadata": {},
   "outputs": [
    {
     "ename": "SyntaxError",
     "evalue": "invalid syntax (<ipython-input-21-b6b3f51996c7>, line 1)",
     "output_type": "error",
     "traceback": [
      "\u001b[1;36m  File \u001b[1;32m\"<ipython-input-21-b6b3f51996c7>\"\u001b[1;36m, line \u001b[1;32m1\u001b[0m\n\u001b[1;33m    global\u001b[0m\n\u001b[1;37m          ^\u001b[0m\n\u001b[1;31mSyntaxError\u001b[0m\u001b[1;31m:\u001b[0m invalid syntax\n"
     ]
    }
   ],
   "source": [
    "global"
   ]
  },
  {
   "cell_type": "code",
   "execution_count": 22,
   "metadata": {},
   "outputs": [
    {
     "data": {
      "text/plain": [
       "<function globals>"
      ]
     },
     "execution_count": 22,
     "metadata": {},
     "output_type": "execute_result"
    }
   ],
   "source": [
    "globals"
   ]
  },
  {
   "cell_type": "code",
   "execution_count": 23,
   "metadata": {},
   "outputs": [
    {
     "data": {
      "text/plain": [
       "{'In': ['',\n",
       "  u'x = 25\\n\\ndeff print():\\n    x = 50\\n    return x\\n\\nprint x\\nprint printer()',\n",
       "  u'x = 25\\n\\ndeff printer():\\n    x = 50\\n    return x\\n\\nprint x\\nprint printer()',\n",
       "  u'x = 25\\n\\ndef printer():\\n    x = 50\\n    return x\\n\\nprint x\\nprint printer()',\n",
       "  u'printer = lambda x: print x',\n",
       "  u'printL = lambda x: printer(x)',\n",
       "  u'printL',\n",
       "  u'x = 25\\n\\ndef printer():\\n    x = 50\\n    return x\\n\\nprint x\\nprint printer()',\n",
       "  u'printL = lambda x: printer(x)',\n",
       "  u'printL',\n",
       "  u'printL(5)',\n",
       "  u'printL = lambda x: x**2',\n",
       "  u'printL(5)',\n",
       "  u'printL = lambda x: x**2 if x>5 else x**3',\n",
       "  u'printL(5)',\n",
       "  u'printL(4)',\n",
       "  u'printL(6)',\n",
       "  u\"x = 50\\n\\ndef func():\\n    global x\\n    print 'global value of x is: ',x\\n    x=2\",\n",
       "  u'func',\n",
       "  u'func()',\n",
       "  u'global()',\n",
       "  u'global',\n",
       "  u'globals',\n",
       "  u'globals()'],\n",
       " 'Out': {6: <function __main__.<lambda>>,\n",
       "  9: <function __main__.<lambda>>,\n",
       "  12: 25,\n",
       "  14: 125,\n",
       "  15: 64,\n",
       "  16: 36,\n",
       "  18: <function __main__.func>,\n",
       "  22: <function globals>},\n",
       " '_': <function globals>,\n",
       " '_12': 25,\n",
       " '_14': 125,\n",
       " '_15': 64,\n",
       " '_16': 36,\n",
       " '_18': <function __main__.func>,\n",
       " '_22': <function globals>,\n",
       " '_6': <function __main__.<lambda>>,\n",
       " '_9': <function __main__.<lambda>>,\n",
       " '__': <function __main__.func>,\n",
       " '___': 36,\n",
       " '__builtin__': <module '__builtin__' (built-in)>,\n",
       " '__builtins__': <module '__builtin__' (built-in)>,\n",
       " '__doc__': 'Automatically created module for IPython interactive environment',\n",
       " '__name__': '__main__',\n",
       " '_dh': [u'C:\\\\Users\\\\mattp\\\\Documents\\\\PythonProjects\\\\Udemy_Python_Bootcamp\\\\Python-bootcamp'],\n",
       " '_i': u'globals',\n",
       " '_i1': u'x = 25\\n\\ndeff print():\\n    x = 50\\n    return x\\n\\nprint x\\nprint printer()',\n",
       " '_i10': u'printL(5)',\n",
       " '_i11': u'printL = lambda x: x**2',\n",
       " '_i12': u'printL(5)',\n",
       " '_i13': u'printL = lambda x: x**2 if x>5 else x**3',\n",
       " '_i14': u'printL(5)',\n",
       " '_i15': u'printL(4)',\n",
       " '_i16': u'printL(6)',\n",
       " '_i17': u\"x = 50\\n\\ndef func():\\n    global x\\n    print 'global value of x is: ',x\\n    x=2\",\n",
       " '_i18': u'func',\n",
       " '_i19': u'func()',\n",
       " '_i2': u'x = 25\\n\\ndeff printer():\\n    x = 50\\n    return x\\n\\nprint x\\nprint printer()',\n",
       " '_i20': u'global()',\n",
       " '_i21': u'global',\n",
       " '_i22': u'globals',\n",
       " '_i23': u'globals()',\n",
       " '_i3': u'x = 25\\n\\ndef printer():\\n    x = 50\\n    return x\\n\\nprint x\\nprint printer()',\n",
       " '_i4': u'printer = lambda x: print x',\n",
       " '_i5': u'printL = lambda x: printer(x)',\n",
       " '_i6': u'printL',\n",
       " '_i7': u'x = 25\\n\\ndef printer():\\n    x = 50\\n    return x\\n\\nprint x\\nprint printer()',\n",
       " '_i8': u'printL = lambda x: printer(x)',\n",
       " '_i9': u'printL',\n",
       " '_ih': ['',\n",
       "  u'x = 25\\n\\ndeff print():\\n    x = 50\\n    return x\\n\\nprint x\\nprint printer()',\n",
       "  u'x = 25\\n\\ndeff printer():\\n    x = 50\\n    return x\\n\\nprint x\\nprint printer()',\n",
       "  u'x = 25\\n\\ndef printer():\\n    x = 50\\n    return x\\n\\nprint x\\nprint printer()',\n",
       "  u'printer = lambda x: print x',\n",
       "  u'printL = lambda x: printer(x)',\n",
       "  u'printL',\n",
       "  u'x = 25\\n\\ndef printer():\\n    x = 50\\n    return x\\n\\nprint x\\nprint printer()',\n",
       "  u'printL = lambda x: printer(x)',\n",
       "  u'printL',\n",
       "  u'printL(5)',\n",
       "  u'printL = lambda x: x**2',\n",
       "  u'printL(5)',\n",
       "  u'printL = lambda x: x**2 if x>5 else x**3',\n",
       "  u'printL(5)',\n",
       "  u'printL(4)',\n",
       "  u'printL(6)',\n",
       "  u\"x = 50\\n\\ndef func():\\n    global x\\n    print 'global value of x is: ',x\\n    x=2\",\n",
       "  u'func',\n",
       "  u'func()',\n",
       "  u'global()',\n",
       "  u'global',\n",
       "  u'globals',\n",
       "  u'globals()'],\n",
       " '_ii': u'global',\n",
       " '_iii': u'global()',\n",
       " '_oh': {6: <function __main__.<lambda>>,\n",
       "  9: <function __main__.<lambda>>,\n",
       "  12: 25,\n",
       "  14: 125,\n",
       "  15: 64,\n",
       "  16: 36,\n",
       "  18: <function __main__.func>,\n",
       "  22: <function globals>},\n",
       " '_sh': <module 'IPython.core.shadowns' from 'C:\\Users\\mattp\\Anaconda2\\lib\\site-packages\\IPython\\core\\shadowns.pyc'>,\n",
       " 'exit': <IPython.core.autocall.ZMQExitAutocall at 0x55646d8>,\n",
       " 'func': <function __main__.func>,\n",
       " 'get_ipython': <bound method ZMQInteractiveShell.get_ipython of <ipykernel.zmqshell.ZMQInteractiveShell object at 0x00000000051F31D0>>,\n",
       " 'printL': <function __main__.<lambda>>,\n",
       " 'printer': <function __main__.printer>,\n",
       " 'quit': <IPython.core.autocall.ZMQExitAutocall at 0x55646d8>,\n",
       " 'x': 2}"
      ]
     },
     "execution_count": 23,
     "metadata": {},
     "output_type": "execute_result"
    }
   ],
   "source": [
    "globals()"
   ]
  },
  {
   "cell_type": "code",
   "execution_count": 24,
   "metadata": {},
   "outputs": [
    {
     "data": {
      "text/plain": [
       "{'In': ['',\n",
       "  u'x = 25\\n\\ndeff print():\\n    x = 50\\n    return x\\n\\nprint x\\nprint printer()',\n",
       "  u'x = 25\\n\\ndeff printer():\\n    x = 50\\n    return x\\n\\nprint x\\nprint printer()',\n",
       "  u'x = 25\\n\\ndef printer():\\n    x = 50\\n    return x\\n\\nprint x\\nprint printer()',\n",
       "  u'printer = lambda x: print x',\n",
       "  u'printL = lambda x: printer(x)',\n",
       "  u'printL',\n",
       "  u'x = 25\\n\\ndef printer():\\n    x = 50\\n    return x\\n\\nprint x\\nprint printer()',\n",
       "  u'printL = lambda x: printer(x)',\n",
       "  u'printL',\n",
       "  u'printL(5)',\n",
       "  u'printL = lambda x: x**2',\n",
       "  u'printL(5)',\n",
       "  u'printL = lambda x: x**2 if x>5 else x**3',\n",
       "  u'printL(5)',\n",
       "  u'printL(4)',\n",
       "  u'printL(6)',\n",
       "  u\"x = 50\\n\\ndef func():\\n    global x\\n    print 'global value of x is: ',x\\n    x=2\",\n",
       "  u'func',\n",
       "  u'func()',\n",
       "  u'global()',\n",
       "  u'global',\n",
       "  u'globals',\n",
       "  u'globals()',\n",
       "  u'locals()'],\n",
       " 'Out': {6: <function __main__.<lambda>>,\n",
       "  9: <function __main__.<lambda>>,\n",
       "  12: 25,\n",
       "  14: 125,\n",
       "  15: 64,\n",
       "  16: 36,\n",
       "  18: <function __main__.func>,\n",
       "  22: <function globals>,\n",
       "  23: {...}},\n",
       " '_': {...},\n",
       " '_12': 25,\n",
       " '_14': 125,\n",
       " '_15': 64,\n",
       " '_16': 36,\n",
       " '_18': <function __main__.func>,\n",
       " '_22': <function globals>,\n",
       " '_23': {...},\n",
       " '_6': <function __main__.<lambda>>,\n",
       " '_9': <function __main__.<lambda>>,\n",
       " '__': <function globals>,\n",
       " '___': <function __main__.func>,\n",
       " '__builtin__': <module '__builtin__' (built-in)>,\n",
       " '__builtins__': <module '__builtin__' (built-in)>,\n",
       " '__doc__': 'Automatically created module for IPython interactive environment',\n",
       " '__name__': '__main__',\n",
       " '_dh': [u'C:\\\\Users\\\\mattp\\\\Documents\\\\PythonProjects\\\\Udemy_Python_Bootcamp\\\\Python-bootcamp'],\n",
       " '_i': u'globals()',\n",
       " '_i1': u'x = 25\\n\\ndeff print():\\n    x = 50\\n    return x\\n\\nprint x\\nprint printer()',\n",
       " '_i10': u'printL(5)',\n",
       " '_i11': u'printL = lambda x: x**2',\n",
       " '_i12': u'printL(5)',\n",
       " '_i13': u'printL = lambda x: x**2 if x>5 else x**3',\n",
       " '_i14': u'printL(5)',\n",
       " '_i15': u'printL(4)',\n",
       " '_i16': u'printL(6)',\n",
       " '_i17': u\"x = 50\\n\\ndef func():\\n    global x\\n    print 'global value of x is: ',x\\n    x=2\",\n",
       " '_i18': u'func',\n",
       " '_i19': u'func()',\n",
       " '_i2': u'x = 25\\n\\ndeff printer():\\n    x = 50\\n    return x\\n\\nprint x\\nprint printer()',\n",
       " '_i20': u'global()',\n",
       " '_i21': u'global',\n",
       " '_i22': u'globals',\n",
       " '_i23': u'globals()',\n",
       " '_i24': u'locals()',\n",
       " '_i3': u'x = 25\\n\\ndef printer():\\n    x = 50\\n    return x\\n\\nprint x\\nprint printer()',\n",
       " '_i4': u'printer = lambda x: print x',\n",
       " '_i5': u'printL = lambda x: printer(x)',\n",
       " '_i6': u'printL',\n",
       " '_i7': u'x = 25\\n\\ndef printer():\\n    x = 50\\n    return x\\n\\nprint x\\nprint printer()',\n",
       " '_i8': u'printL = lambda x: printer(x)',\n",
       " '_i9': u'printL',\n",
       " '_ih': ['',\n",
       "  u'x = 25\\n\\ndeff print():\\n    x = 50\\n    return x\\n\\nprint x\\nprint printer()',\n",
       "  u'x = 25\\n\\ndeff printer():\\n    x = 50\\n    return x\\n\\nprint x\\nprint printer()',\n",
       "  u'x = 25\\n\\ndef printer():\\n    x = 50\\n    return x\\n\\nprint x\\nprint printer()',\n",
       "  u'printer = lambda x: print x',\n",
       "  u'printL = lambda x: printer(x)',\n",
       "  u'printL',\n",
       "  u'x = 25\\n\\ndef printer():\\n    x = 50\\n    return x\\n\\nprint x\\nprint printer()',\n",
       "  u'printL = lambda x: printer(x)',\n",
       "  u'printL',\n",
       "  u'printL(5)',\n",
       "  u'printL = lambda x: x**2',\n",
       "  u'printL(5)',\n",
       "  u'printL = lambda x: x**2 if x>5 else x**3',\n",
       "  u'printL(5)',\n",
       "  u'printL(4)',\n",
       "  u'printL(6)',\n",
       "  u\"x = 50\\n\\ndef func():\\n    global x\\n    print 'global value of x is: ',x\\n    x=2\",\n",
       "  u'func',\n",
       "  u'func()',\n",
       "  u'global()',\n",
       "  u'global',\n",
       "  u'globals',\n",
       "  u'globals()',\n",
       "  u'locals()'],\n",
       " '_ii': u'globals',\n",
       " '_iii': u'global',\n",
       " '_oh': {6: <function __main__.<lambda>>,\n",
       "  9: <function __main__.<lambda>>,\n",
       "  12: 25,\n",
       "  14: 125,\n",
       "  15: 64,\n",
       "  16: 36,\n",
       "  18: <function __main__.func>,\n",
       "  22: <function globals>,\n",
       "  23: {...}},\n",
       " '_sh': <module 'IPython.core.shadowns' from 'C:\\Users\\mattp\\Anaconda2\\lib\\site-packages\\IPython\\core\\shadowns.pyc'>,\n",
       " 'exit': <IPython.core.autocall.ZMQExitAutocall at 0x55646d8>,\n",
       " 'func': <function __main__.func>,\n",
       " 'get_ipython': <bound method ZMQInteractiveShell.get_ipython of <ipykernel.zmqshell.ZMQInteractiveShell object at 0x00000000051F31D0>>,\n",
       " 'printL': <function __main__.<lambda>>,\n",
       " 'printer': <function __main__.printer>,\n",
       " 'quit': <IPython.core.autocall.ZMQExitAutocall at 0x55646d8>,\n",
       " 'x': 2}"
      ]
     },
     "execution_count": 24,
     "metadata": {},
     "output_type": "execute_result"
    }
   ],
   "source": [
    "locals()"
   ]
  },
  {
   "cell_type": "code",
   "execution_count": null,
   "metadata": {
    "collapsed": true
   },
   "outputs": [],
   "source": []
  }
 ],
 "metadata": {
  "kernelspec": {
   "display_name": "Python 2",
   "language": "python",
   "name": "python2"
  },
  "language_info": {
   "codemirror_mode": {
    "name": "ipython",
    "version": 2
   },
   "file_extension": ".py",
   "mimetype": "text/x-python",
   "name": "python",
   "nbconvert_exporter": "python",
   "pygments_lexer": "ipython2",
   "version": "2.7.14"
  }
 },
 "nbformat": 4,
 "nbformat_minor": 2
}
